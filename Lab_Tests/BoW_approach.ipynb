{
 "cells": [
  {
   "cell_type": "markdown",
   "id": "e129e32c",
   "metadata": {},
   "source": [
    "# Bag of words approach"
   ]
  },
  {
   "cell_type": "code",
   "execution_count": null,
   "id": "87b785bd",
   "metadata": {},
   "outputs": [],
   "source": []
  }
 ],
 "metadata": {
  "language_info": {
   "name": "python"
  }
 },
 "nbformat": 4,
 "nbformat_minor": 5
}
